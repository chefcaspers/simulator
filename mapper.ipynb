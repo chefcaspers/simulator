{
 "cells": [
  {
   "cell_type": "code",
   "execution_count": 0,
   "metadata": {
    "application/vnd.databricks.v1+cell": {
     "cellMetadata": {
      "byteLimit": 2048000,
      "rowLimit": 10000
     },
     "inputWidgets": {},
     "nuid": "cd63e19c-e8bf-499b-8c0c-e43732e827d0",
     "showTitle": false,
     "tableResultSettingsMap": {},
     "title": ""
    }
   },
   "outputs": [],
   "source": [
    "%pip install geopandas==0.14.3 contextily==1.6.0 pyproj==3.6.1 shapely==2.0.3"
   ]
  },
  {
   "cell_type": "code",
   "execution_count": 0,
   "metadata": {
    "application/vnd.databricks.v1+cell": {
     "cellMetadata": {
      "byteLimit": 2048000,
      "implicitDf": true,
      "rowLimit": 10000
     },
     "inputWidgets": {},
     "nuid": "9732cdb7-b525-41c0-a805-4f63cf089c2b",
     "showTitle": false,
     "tableResultSettingsMap": {},
     "title": ""
    }
   },
   "outputs": [],
   "source": [
    "result = spark.sql(\"\"\"\n",
    "    select concat_ws('\\n', collect_list(to_json(struct(*)))) as json_rows \n",
    "    from gk_los_angeles.default.events\n",
    "    where order_id = '6ca8da6af1c04f82bd394fc5ff43b452' \n",
    "    and (event_type like \"driver_%\" or event_type = \"delivered\");\n",
    "\"\"\").collect()[0]['json_rows']"
   ]
  },
  {
   "cell_type": "code",
   "execution_count": 0,
   "metadata": {
    "application/vnd.databricks.v1+cell": {
     "cellMetadata": {
      "byteLimit": 2048000,
      "rowLimit": 10000
     },
     "inputWidgets": {},
     "nuid": "abc51466-46bb-43a9-b4f4-a713cbb21f4d",
     "showTitle": false,
     "tableResultSettingsMap": {},
     "title": ""
    }
   },
   "outputs": [],
   "source": [
    "result"
   ]
  },
  {
   "cell_type": "code",
   "execution_count": 0,
   "metadata": {
    "application/vnd.databricks.v1+cell": {
     "cellMetadata": {
      "byteLimit": 2048000,
      "rowLimit": 10000
     },
     "inputWidgets": {},
     "nuid": "321338fc-dc18-440e-91fc-08a79a9605d0",
     "showTitle": false,
     "tableResultSettingsMap": {},
     "title": ""
    }
   },
   "outputs": [],
   "source": [
    "import json\n",
    "import geopandas as gpd\n",
    "from shapely.geometry import LineString, Point\n",
    "import contextily as cx\n",
    "import matplotlib.pyplot as plt\n",
    "\n",
    "# ─── your JSON-lines dump goes in `events_json` ──────────────────────────\n",
    "events_json = result\n",
    "# ─────────────────────────────────────────────────────────────────────\n",
    "\n",
    "# 1️⃣ parse events & decode JSON-in-JSON\n",
    "events=[]\n",
    "for line in events_json.strip().splitlines():\n",
    "    outer=json.loads(line)\n",
    "    outer[\"body\"]=json.loads(outer[\"body\"])   # decode nested JSON string\n",
    "    events.append(outer)\n",
    "\n",
    "# 2️⃣ group by order\n",
    "by_order={}\n",
    "for ev in events:\n",
    "    by_order.setdefault(ev[\"order_id\"], []).append(ev)\n",
    "\n",
    "# 3️⃣ construct LineStrings\n",
    "GK_LAT,GK_LON = 33.9136,-118.3820   # ghost-kitchen coords\n",
    "geoms,labels=[],[]\n",
    "for oid,evs in by_order.items():\n",
    "    poly=None\n",
    "    for e in evs:\n",
    "        if e[\"event_type\"]==\"driver_picked_up\":\n",
    "            poly=e[\"body\"][\"route_points\"]; break\n",
    "    if poly:\n",
    "        pts=[(lon,lat) for lat,lon in poly]\n",
    "    else:\n",
    "        dest=next((e for e in evs if e[\"event_type\"]==\"delivered\"),None)\n",
    "        if not dest: continue\n",
    "        pts=[(GK_LON,GK_LAT),(dest[\"body\"][\"delivered_lon\"],dest[\"body\"][\"delivered_lat\"])]\n",
    "    geoms.append(LineString(pts)); labels.append(oid)\n",
    "\n",
    "gdf=gpd.GeoDataFrame({\"oid\":labels,\"geometry\":geoms},crs=\"EPSG:4326\")\n",
    "\n",
    "# 4️⃣ plot on OSM basemap\n",
    "ax=gdf.to_crs(epsg=3857).plot(figsize=(8,6),linewidth=3,alpha=.8)\n",
    "gpd.GeoSeries([Point(GK_LON,GK_LAT)],crs=\"EPSG:4326\").to_crs(epsg=3857)\\\n",
    "  .plot(ax=ax,marker=\"s\",color=\"black\",markersize=50,label=\"Ghost Kitchen\")\n",
    "cx.add_basemap(ax,source=cx.providers.OpenStreetMap.Mapnik,zoom=13)\n",
    "ax.set_axis_off(); ax.set_title(\"Ghost-Kitchen Delivery Paths\")\n",
    "plt.show()\n"
   ]
  },
  {
   "cell_type": "code",
   "execution_count": 0,
   "metadata": {
    "application/vnd.databricks.v1+cell": {
     "cellMetadata": {},
     "inputWidgets": {},
     "nuid": "d538d7a5-f898-4904-ae1f-c68693c12db6",
     "showTitle": false,
     "tableResultSettingsMap": {},
     "title": ""
    }
   },
   "outputs": [],
   "source": []
  }
 ],
 "metadata": {
  "application/vnd.databricks.v1+notebook": {
   "computePreferences": null,
   "dashboards": [],
   "environmentMetadata": {
    "base_environment": "",
    "environment_version": "2"
   },
   "inputWidgetPreferences": null,
   "language": "python",
   "notebookMetadata": {
    "mostRecentlyExecutedCommandWithImplicitDF": {
     "commandId": -1,
     "dataframes": [
      "_sqldf"
     ]
    },
    "pythonIndentUnit": 4
   },
   "notebookName": "mapper",
   "widgets": {}
  },
  "language_info": {
   "name": "python"
  }
 },
 "nbformat": 4,
 "nbformat_minor": 0
}
